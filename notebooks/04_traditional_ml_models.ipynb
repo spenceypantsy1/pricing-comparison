{
 "cells": [
  {
   "cell_type": "code",
   "execution_count": 12,
   "id": "521467e3",
   "metadata": {},
   "outputs": [],
   "source": [
    "import sys\n",
    "from pathlib import Path\n",
    "notebook_dir = Path().resolve()\n",
    "src_path = notebook_dir.parent / 'src'\n",
    "sys.path.insert(0, str(src_path))\n",
    "import pandas as pd\n",
    "from utils.timesplit import RollingSplit\n",
    "\n",
    "crypto = pd.read_csv(\"../data/processed_data/BTCUSDT_1h_processed.csv\")\n",
    "\n",
    "# Variables\n",
    "input_features = ['open',\n",
    "                  'high', \n",
    "                  'low', \n",
    "                  'close']\n",
    "train_size = 0.7\n",
    "val_size = 0.15\n",
    "\n",
    "# Features and target\n",
    "X = crypto[input_features]\n",
    "y = crypto['log_return']\n",
    "\n",
    "# Initialize Rolling Splitter\n",
    "sample = len(crypto)\n",
    "train_count = int(train_size * sample)          # number of samples in the training set\n",
    "val_count = int(val_size * sample)              # number of samples in the validation set\n",
    "test_count = sample - train_count - val_count   # number of samples in the test set\n",
    "step_size = test_count                          # step size as test arbitrarily chosen as test size for non-overlapping sets\n",
    "\n",
    "splitter = RollingSplit(train_size=train_count, val_size=val_count, test_size=test_count, step_size=step_size)"
   ]
  },
  {
   "cell_type": "code",
   "execution_count": null,
   "id": "79eb9aa4",
   "metadata": {},
   "outputs": [],
   "source": []
  }
 ],
 "metadata": {
  "kernelspec": {
   "display_name": "venv",
   "language": "python",
   "name": "python3"
  },
  "language_info": {
   "codemirror_mode": {
    "name": "ipython",
    "version": 3
   },
   "file_extension": ".py",
   "mimetype": "text/x-python",
   "name": "python",
   "nbconvert_exporter": "python",
   "pygments_lexer": "ipython3",
   "version": "3.12.4"
  }
 },
 "nbformat": 4,
 "nbformat_minor": 5
}
