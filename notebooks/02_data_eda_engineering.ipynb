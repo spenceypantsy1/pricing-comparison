{
 "cells": [
  {
   "cell_type": "markdown",
   "id": "ce2a014b",
   "metadata": {},
   "source": [
    "# ARIMA-GARCH Assumption Checks\n",
    "\n",
    "**Objective:** Verify assumptions needed for reliable ARIMA(p,d,q) modeling with a GARCH volatility component and produce diagnostic evidence for model selection.\n",
    "- **Stationarity** - Checked with ADF (unit root) and KPSS (stationarity)\n",
    "- **Linearity** - AR/MA are linear by design\n",
    "- **No autocorrelation in residuals** - Checked with Ljung-Box test\n",
    "- **Homoscedasticity** - Visual checks with residual plot\n",
    "- **Invertibility**\n",
    "\n",
    "**Workflow**:  \n",
    "1. Simple feature cleaning/engineering\n",
    "2. Stationarity Check \n",
    "3. PACF/ACF (p/q selection)\n",
    "4. Residual Diagnosis\n",
    "5. Finalization of ARIMA(p/d/q)-GARCH"
   ]
  },
  {
   "cell_type": "markdown",
   "id": "ed070c89",
   "metadata": {},
   "source": [
    "## 1. Simple feature cleaning/engineering"
   ]
  },
  {
   "cell_type": "code",
   "execution_count": 2,
   "id": "d2e022e6",
   "metadata": {},
   "outputs": [
    {
     "data": {
      "application/vnd.microsoft.datawrangler.viewer.v0+json": {
       "columns": [
        {
         "name": "index",
         "rawType": "int64",
         "type": "integer"
        },
        {
         "name": "timestamp",
         "rawType": "datetime64[ns]",
         "type": "datetime"
        },
        {
         "name": "open",
         "rawType": "float64",
         "type": "float"
        },
        {
         "name": "high",
         "rawType": "float64",
         "type": "float"
        },
        {
         "name": "low",
         "rawType": "float64",
         "type": "float"
        },
        {
         "name": "close",
         "rawType": "float64",
         "type": "float"
        },
        {
         "name": "volume",
         "rawType": "float64",
         "type": "float"
        },
        {
         "name": "log_return",
         "rawType": "float64",
         "type": "float"
        }
       ],
       "ref": "e548e7b3-c487-40d3-9967-56a5fa6bcc42",
       "rows": [
        [
         "0",
         "2020-01-01 01:00:00",
         "7176.47",
         "7230.0",
         "7175.71",
         "7216.27",
         "883.052603",
         "0.0054539437880477045"
        ],
        [
         "1",
         "2020-01-01 02:00:00",
         "7215.52",
         "7244.87",
         "7211.41",
         "7242.85",
         "655.156809",
         "0.003676576436273115"
        ],
        [
         "2",
         "2020-01-01 03:00:00",
         "7242.66",
         "7245.0",
         "7220.0",
         "7225.01",
         "783.724867",
         "-0.002466157267460975"
        ],
        [
         "3",
         "2020-01-01 04:00:00",
         "7225.0",
         "7230.0",
         "7215.03",
         "7217.27",
         "467.812578",
         "-0.0010718530233481366"
        ],
        [
         "4",
         "2020-01-01 05:00:00",
         "7217.26",
         "7229.76",
         "7216.65",
         "7224.21",
         "344.670596",
         "0.0009611204023736772"
        ],
        [
         "5",
         "2020-01-01 06:00:00",
         "7224.24",
         "7236.27",
         "7221.51",
         "7225.62",
         "621.467023",
         "0.0001951580059385737"
        ],
        [
         "6",
         "2020-01-01 07:00:00",
         "7225.88",
         "7232.94",
         "7199.11",
         "7209.83",
         "627.344854",
         "-0.002187670810047564"
        ],
        [
         "7",
         "2020-01-01 08:00:00",
         "7209.83",
         "7210.0",
         "7180.0",
         "7200.64",
         "915.545974",
         "-0.0012754616949841534"
        ],
        [
         "8",
         "2020-01-01 09:00:00",
         "7200.29",
         "7210.51",
         "7188.0",
         "7188.77",
         "636.386102",
         "-0.0016498247937107029"
        ],
        [
         "9",
         "2020-01-01 10:00:00",
         "7189.07",
         "7210.0",
         "7185.2",
         "7202.0",
         "537.762804",
         "0.0018386790598788332"
        ],
        [
         "10",
         "2020-01-01 11:00:00",
         "7202.01",
         "7237.73",
         "7188.61",
         "7197.2",
         "1076.959481",
         "-0.0006667037304569844"
        ],
        [
         "11",
         "2020-01-01 12:00:00",
         "7197.2",
         "7233.33",
         "7196.15",
         "7225.59",
         "868.75358",
         "0.003936830067853603"
        ],
        [
         "12",
         "2020-01-01 13:00:00",
         "7225.84",
         "7231.89",
         "7212.88",
         "7221.2",
         "612.180902",
         "-0.000607747483714124"
        ],
        [
         "13",
         "2020-01-01 14:00:00",
         "7221.17",
         "7234.97",
         "7208.17",
         "7221.43",
         "617.714185",
         "3.1850154718328916e-05"
        ],
        [
         "14",
         "2020-01-01 15:00:00",
         "7221.6",
         "7255.0",
         "7218.29",
         "7234.19",
         "1393.888792",
         "0.0017654038102878887"
        ],
        [
         "15",
         "2020-01-01 16:00:00",
         "7234.2",
         "7246.42",
         "7214.0",
         "7245.37",
         "881.93278",
         "0.0015442461265040629"
        ],
        [
         "16",
         "2020-01-01 17:00:00",
         "7244.34",
         "7249.99",
         "7224.92",
         "7236.83",
         "1069.210567",
         "-0.0011793789603626037"
        ],
        [
         "17",
         "2020-01-01 18:00:00",
         "7237.02",
         "7246.72",
         "7225.17",
         "7240.67",
         "611.693307",
         "0.0005304783408807698"
        ],
        [
         "18",
         "2020-01-01 19:00:00",
         "7240.8",
         "7241.0",
         "7225.49",
         "7229.48",
         "417.746637",
         "-0.001546632513223124"
        ],
        [
         "19",
         "2020-01-01 20:00:00",
         "7229.48",
         "7242.98",
         "7224.68",
         "7236.73",
         "391.834174",
         "0.001002335871937818"
        ],
        [
         "20",
         "2020-01-01 21:00:00",
         "7237.26",
         "7242.75",
         "7227.0",
         "7233.17",
         "285.454078",
         "-0.0004920559329129301"
        ],
        [
         "21",
         "2020-01-01 22:00:00",
         "7233.32",
         "7234.49",
         "7186.0",
         "7197.99",
         "769.030411",
         "-0.00487557059712096"
        ],
        [
         "22",
         "2020-01-01 23:00:00",
         "7197.62",
         "7204.17",
         "7175.15",
         "7200.85",
         "811.25016",
         "0.0003972542284812613"
        ],
        [
         "23",
         "2020-01-02 00:00:00",
         "7200.77",
         "7212.5",
         "7185.46",
         "7211.02",
         "391.352377",
         "0.0014113368616441603"
        ],
        [
         "24",
         "2020-01-02 01:00:00",
         "7211.04",
         "7211.16",
         "7185.11",
         "7190.99",
         "402.660139",
         "-0.0027815579789834824"
        ],
        [
         "25",
         "2020-01-02 02:00:00",
         "7190.99",
         "7191.0",
         "7155.35",
         "7169.02",
         "1387.377886",
         "-0.003059888836002544"
        ],
        [
         "26",
         "2020-01-02 03:00:00",
         "7169.04",
         "7169.06",
         "7120.37",
         "7129.61",
         "1557.96443",
         "-0.00551243018324838"
        ],
        [
         "27",
         "2020-01-02 04:00:00",
         "7129.25",
         "7161.0",
         "7116.7",
         "7142.21",
         "1252.447877",
         "0.0017657177954383942"
        ],
        [
         "28",
         "2020-01-02 05:00:00",
         "7142.61",
         "7152.05",
         "7126.93",
         "7138.93",
         "569.50899",
         "-0.00045934709101278556"
        ],
        [
         "29",
         "2020-01-02 06:00:00",
         "7138.93",
         "7149.02",
         "7121.43",
         "7135.97",
         "687.600665",
         "-0.0004147139443951857"
        ],
        [
         "30",
         "2020-01-02 07:00:00",
         "7136.04",
         "7140.63",
         "7105.0",
         "7110.57",
         "1548.403823",
         "-0.0035657818548206583"
        ],
        [
         "31",
         "2020-01-02 08:00:00",
         "7110.98",
         "7157.48",
         "7109.11",
         "7154.36",
         "1114.825128",
         "0.006139551691027996"
        ],
        [
         "32",
         "2020-01-02 09:00:00",
         "7153.57",
         "7165.0",
         "7135.36",
         "7162.01",
         "840.001328",
         "0.0010687067640904793"
        ],
        [
         "33",
         "2020-01-02 10:00:00",
         "7162.18",
         "7180.0",
         "7153.33",
         "7161.83",
         "1446.219984",
         "-2.5132925250483377e-05"
        ],
        [
         "34",
         "2020-01-02 11:00:00",
         "7161.89",
         "7168.67",
         "7139.03",
         "7139.79",
         "761.15657",
         "-0.0030821707537915196"
        ],
        [
         "35",
         "2020-01-02 12:00:00",
         "7139.73",
         "7163.4",
         "7139.03",
         "7158.29",
         "794.030497",
         "0.00258776147899349"
        ],
        [
         "36",
         "2020-01-02 13:00:00",
         "7158.86",
         "7163.35",
         "7107.43",
         "7131.15",
         "1566.280693",
         "-0.003798613890346693"
        ],
        [
         "37",
         "2020-01-02 14:00:00",
         "7131.18",
         "7157.1",
         "7122.34",
         "7135.59",
         "956.300925",
         "0.0006224267272471954"
        ],
        [
         "38",
         "2020-01-02 15:00:00",
         "7135.59",
         "7152.0",
         "7120.0",
         "7130.98",
         "862.429718",
         "-0.0006462660836419579"
        ],
        [
         "39",
         "2020-01-02 16:00:00",
         "7130.37",
         "7146.85",
         "7020.0",
         "7052.32",
         "3604.474152",
         "-0.01109203168243702"
        ],
        [
         "40",
         "2020-01-02 17:00:00",
         "7052.32",
         "7053.09",
         "6924.74",
         "6970.04",
         "6183.82554",
         "-0.011735677067184485"
        ],
        [
         "41",
         "2020-01-02 18:00:00",
         "6970.04",
         "6989.68",
         "6949.96",
         "6974.02",
         "1513.597939",
         "0.0005708524071299044"
        ],
        [
         "42",
         "2020-01-02 19:00:00",
         "6974.02",
         "6995.0",
         "6960.0",
         "6983.27",
         "1397.130602",
         "0.001325472402487841"
        ],
        [
         "43",
         "2020-01-02 20:00:00",
         "6982.63",
         "6983.22",
         "6941.27",
         "6948.49",
         "1138.646334",
         "-0.004992918662567899"
        ],
        [
         "44",
         "2020-01-02 21:00:00",
         "6948.16",
         "6985.0",
         "6946.2",
         "6977.73",
         "665.856715",
         "0.004199279196800643"
        ],
        [
         "45",
         "2020-01-02 22:00:00",
         "6977.55",
         "6978.24",
         "6963.02",
         "6974.8",
         "568.324029",
         "-0.0004199955195321994"
        ],
        [
         "46",
         "2020-01-02 23:00:00",
         "6974.8",
         "6974.8",
         "6950.0",
         "6965.71",
         "741.067591",
         "-0.0013041131620419374"
        ],
        [
         "47",
         "2020-01-03 00:00:00",
         "6965.49",
         "6966.47",
         "6912.88",
         "6937.0",
         "1106.732043",
         "-0.004130135895995415"
        ],
        [
         "48",
         "2020-01-03 01:00:00",
         "6937.0",
         "6946.07",
         "6878.19",
         "6888.85",
         "2402.581684",
         "-0.006965241871516339"
        ],
        [
         "49",
         "2020-01-03 02:00:00",
         "6888.26",
         "6966.8",
         "6871.04",
         "6956.88",
         "2869.993553",
         "0.009826935446949892"
        ]
       ],
       "shape": {
        "columns": 7,
        "rows": 43815
       }
      },
      "text/html": [
       "<div>\n",
       "<style scoped>\n",
       "    .dataframe tbody tr th:only-of-type {\n",
       "        vertical-align: middle;\n",
       "    }\n",
       "\n",
       "    .dataframe tbody tr th {\n",
       "        vertical-align: top;\n",
       "    }\n",
       "\n",
       "    .dataframe thead th {\n",
       "        text-align: right;\n",
       "    }\n",
       "</style>\n",
       "<table border=\"1\" class=\"dataframe\">\n",
       "  <thead>\n",
       "    <tr style=\"text-align: right;\">\n",
       "      <th></th>\n",
       "      <th>timestamp</th>\n",
       "      <th>open</th>\n",
       "      <th>high</th>\n",
       "      <th>low</th>\n",
       "      <th>close</th>\n",
       "      <th>volume</th>\n",
       "      <th>log_return</th>\n",
       "    </tr>\n",
       "  </thead>\n",
       "  <tbody>\n",
       "    <tr>\n",
       "      <th>0</th>\n",
       "      <td>2020-01-01 01:00:00</td>\n",
       "      <td>7176.47</td>\n",
       "      <td>7230.00</td>\n",
       "      <td>7175.71</td>\n",
       "      <td>7216.27</td>\n",
       "      <td>883.052603</td>\n",
       "      <td>0.005454</td>\n",
       "    </tr>\n",
       "    <tr>\n",
       "      <th>1</th>\n",
       "      <td>2020-01-01 02:00:00</td>\n",
       "      <td>7215.52</td>\n",
       "      <td>7244.87</td>\n",
       "      <td>7211.41</td>\n",
       "      <td>7242.85</td>\n",
       "      <td>655.156809</td>\n",
       "      <td>0.003677</td>\n",
       "    </tr>\n",
       "    <tr>\n",
       "      <th>2</th>\n",
       "      <td>2020-01-01 03:00:00</td>\n",
       "      <td>7242.66</td>\n",
       "      <td>7245.00</td>\n",
       "      <td>7220.00</td>\n",
       "      <td>7225.01</td>\n",
       "      <td>783.724867</td>\n",
       "      <td>-0.002466</td>\n",
       "    </tr>\n",
       "    <tr>\n",
       "      <th>3</th>\n",
       "      <td>2020-01-01 04:00:00</td>\n",
       "      <td>7225.00</td>\n",
       "      <td>7230.00</td>\n",
       "      <td>7215.03</td>\n",
       "      <td>7217.27</td>\n",
       "      <td>467.812578</td>\n",
       "      <td>-0.001072</td>\n",
       "    </tr>\n",
       "    <tr>\n",
       "      <th>4</th>\n",
       "      <td>2020-01-01 05:00:00</td>\n",
       "      <td>7217.26</td>\n",
       "      <td>7229.76</td>\n",
       "      <td>7216.65</td>\n",
       "      <td>7224.21</td>\n",
       "      <td>344.670596</td>\n",
       "      <td>0.000961</td>\n",
       "    </tr>\n",
       "    <tr>\n",
       "      <th>...</th>\n",
       "      <td>...</td>\n",
       "      <td>...</td>\n",
       "      <td>...</td>\n",
       "      <td>...</td>\n",
       "      <td>...</td>\n",
       "      <td>...</td>\n",
       "      <td>...</td>\n",
       "    </tr>\n",
       "    <tr>\n",
       "      <th>43810</th>\n",
       "      <td>2024-12-31 19:00:00</td>\n",
       "      <td>93875.69</td>\n",
       "      <td>94290.91</td>\n",
       "      <td>93712.45</td>\n",
       "      <td>94166.88</td>\n",
       "      <td>462.793420</td>\n",
       "      <td>0.003097</td>\n",
       "    </tr>\n",
       "    <tr>\n",
       "      <th>43811</th>\n",
       "      <td>2024-12-31 20:00:00</td>\n",
       "      <td>94166.88</td>\n",
       "      <td>94222.50</td>\n",
       "      <td>93450.17</td>\n",
       "      <td>93564.04</td>\n",
       "      <td>733.041470</td>\n",
       "      <td>-0.006422</td>\n",
       "    </tr>\n",
       "    <tr>\n",
       "      <th>43812</th>\n",
       "      <td>2024-12-31 21:00:00</td>\n",
       "      <td>93564.01</td>\n",
       "      <td>93964.15</td>\n",
       "      <td>93504.67</td>\n",
       "      <td>93899.68</td>\n",
       "      <td>337.527150</td>\n",
       "      <td>0.003581</td>\n",
       "    </tr>\n",
       "    <tr>\n",
       "      <th>43813</th>\n",
       "      <td>2024-12-31 22:00:00</td>\n",
       "      <td>93899.67</td>\n",
       "      <td>93899.67</td>\n",
       "      <td>93375.58</td>\n",
       "      <td>93488.84</td>\n",
       "      <td>315.532720</td>\n",
       "      <td>-0.004385</td>\n",
       "    </tr>\n",
       "    <tr>\n",
       "      <th>43814</th>\n",
       "      <td>2024-12-31 23:00:00</td>\n",
       "      <td>93488.83</td>\n",
       "      <td>93756.00</td>\n",
       "      <td>93375.38</td>\n",
       "      <td>93576.00</td>\n",
       "      <td>336.579950</td>\n",
       "      <td>0.000932</td>\n",
       "    </tr>\n",
       "  </tbody>\n",
       "</table>\n",
       "<p>43815 rows × 7 columns</p>\n",
       "</div>"
      ],
      "text/plain": [
       "                timestamp      open      high       low     close      volume  \\\n",
       "0     2020-01-01 01:00:00   7176.47   7230.00   7175.71   7216.27  883.052603   \n",
       "1     2020-01-01 02:00:00   7215.52   7244.87   7211.41   7242.85  655.156809   \n",
       "2     2020-01-01 03:00:00   7242.66   7245.00   7220.00   7225.01  783.724867   \n",
       "3     2020-01-01 04:00:00   7225.00   7230.00   7215.03   7217.27  467.812578   \n",
       "4     2020-01-01 05:00:00   7217.26   7229.76   7216.65   7224.21  344.670596   \n",
       "...                   ...       ...       ...       ...       ...         ...   \n",
       "43810 2024-12-31 19:00:00  93875.69  94290.91  93712.45  94166.88  462.793420   \n",
       "43811 2024-12-31 20:00:00  94166.88  94222.50  93450.17  93564.04  733.041470   \n",
       "43812 2024-12-31 21:00:00  93564.01  93964.15  93504.67  93899.68  337.527150   \n",
       "43813 2024-12-31 22:00:00  93899.67  93899.67  93375.58  93488.84  315.532720   \n",
       "43814 2024-12-31 23:00:00  93488.83  93756.00  93375.38  93576.00  336.579950   \n",
       "\n",
       "       log_return  \n",
       "0        0.005454  \n",
       "1        0.003677  \n",
       "2       -0.002466  \n",
       "3       -0.001072  \n",
       "4        0.000961  \n",
       "...           ...  \n",
       "43810    0.003097  \n",
       "43811   -0.006422  \n",
       "43812    0.003581  \n",
       "43813   -0.004385  \n",
       "43814    0.000932  \n",
       "\n",
       "[43815 rows x 7 columns]"
      ]
     },
     "metadata": {},
     "output_type": "display_data"
    }
   ],
   "source": [
    "import pandas as pd\n",
    "import numpy as np\n",
    "\n",
    "crypto = pd.read_csv(\"../data/raw_data/BTCUSDT_1h.csv\")\n",
    "\n",
    "# +--------------------------------------------------------------+\n",
    "# |              PRELIMINARY FEATURE ENGINEERING                 |\n",
    "# +--------------------------------------------------------------+\n",
    "\n",
    "# checking if timestamp has any gaps/duplicates\n",
    "crypto['timestamp'] = pd.to_datetime(crypto['timestamp'])\n",
    "crypto = crypto.sort_values(by='timestamp').reset_index(drop=True)\n",
    "crypto = crypto.drop_duplicates(subset=['timestamp']).reset_index(drop=True)\n",
    "\n",
    "# log returns\n",
    "crypto['log_return'] = np.log(crypto['close'] / crypto['close'].shift(1))\n",
    "crypto = crypto.dropna(subset=['log_return']).reset_index(drop=True)\n",
    "\n",
    "display(crypto)"
   ]
  },
  {
   "cell_type": "markdown",
   "id": "d3634bb5",
   "metadata": {},
   "source": [
    "## 2. Stationarity Check"
   ]
  },
  {
   "cell_type": "code",
   "execution_count": 3,
   "id": "b51ef6c0",
   "metadata": {},
   "outputs": [
    {
     "data": {
      "image/png": "[encoded data removed]",
      "text/plain": [
       "<Figure size 1200x600 with 1 Axes>"
      ]
     },
     "metadata": {},
     "output_type": "display_data"
    }
   ],
   "source": [
    "import matplotlib.pyplot as plt\n",
    "\n",
    "plt.figure(figsize=(12, 6))\n",
    "plt.plot(crypto['timestamp'], crypto['close'], label='Close Price', color='blue')\n",
    "plt.title('BTCUSDT Close Price Over Time')\n",
    "plt.xlabel('Time')\n",
    "plt.xticks([])\n",
    "plt.ylabel('Close Price')\n",
    "plt.legend()\n",
    "plt.show()"
   ]
  },
  {
   "cell_type": "code",
   "execution_count": 7,
   "id": "3f28574d",
   "metadata": {},
   "outputs": [
    {
     "name": "stdout",
     "output_type": "stream",
     "text": [
      "Augmented Dickey-Fuller Test:\n",
      "H0: The series has a unit root (non-stationary)\n",
      "H1: The series is stationary\n",
      "--------------------------------------------------\n",
      "ADF Statistic: -29.090831548018254\n",
      "--------------------------------------------------\n",
      "The series is stationary with p-value 0.0 (reject H0)\n",
      "\n",
      "================================================== \n",
      "Kwiatkowski-Phillips-Schmidt-Shin (KPSS) Test:\n",
      "H0: The series is stationary\n",
      "H1: The series has a unit root (non-stationary)\n",
      "--------------------------------------------------\n",
      "KPSS Statistic: 0.17799457914727884\n",
      "--------------------------------------------------\n",
      "The series is stationary with p-value 0.1 (fail to reject H0)\n"
     ]
    }
   ],
   "source": [
    "from statsmodels.tsa.stattools import adfuller, kpss\n",
    "import warnings\n",
    "warnings.filterwarnings(\"ignore\")\n",
    "\n",
    "# ADF test for unit root\n",
    "print(\"Augmented Dickey-Fuller Test:\")\n",
    "print(\"H0: The series has a unit root (non-stationary)\")\n",
    "print(\"H1: The series is stationary\")\n",
    "print(\"-\" * 50)\n",
    "\n",
    "adf_result = adfuller(crypto['log_return'])     # * Actual test is done here XDD\n",
    "print(\"ADF Statistic:\", adf_result[0])\n",
    "print(\"-\" * 50)\n",
    "\n",
    "if adf_result[1] < 0.05:\n",
    "    print(f\"The series is stationary with p-value {adf_result[1]} (reject H0)\\n\")\n",
    "else:\n",
    "    print(f\"The series is non-stationary with p-value {adf_result[1]} (fail to reject H0)\\n\")\n",
    "\n",
    "\n",
    "# KPSS test for stationarity\n",
    "print(\"=\" * 50 ,\"\\nKwiatkowski-Phillips-Schmidt-Shin (KPSS) Test:\")\n",
    "print(\"H0: The series is stationary\")  \n",
    "print(\"H1: The series has a unit root (non-stationary)\")\n",
    "print(\"-\" * 50)\n",
    "\n",
    "kpss_result = kpss(crypto['log_return'], regression='c', nlags=\"auto\")  # * Actual test is done here XDD\n",
    "print(\"KPSS Statistic:\", kpss_result[0])  \n",
    "print(\"-\" * 50)\n",
    "\n",
    "if kpss_result[1] < 0.05:\n",
    "    print(f\"The series is non-stationary with p-value {kpss_result[1]} (reject H0)\")  \n",
    "else:\n",
    "    print(f\"The series is stationary with p-value {kpss_result[1]} (fail to reject H0)\")"
   ]
  },
  {
   "cell_type": "markdown",
   "id": "851123c7",
   "metadata": {},
   "source": [
    "## PACF/ACF diagnosis for p/q selection "
   ]
  },
  {
   "cell_type": "code",
   "execution_count": null,
   "id": "5cf5118e",
   "metadata": {},
   "outputs": [
    {
     "data": {
      "image/png": "[encoded data removed]",
      "text/plain": [
       "<Figure size 1200x500 with 2 Axes>"
      ]
     },
     "metadata": {},
     "output_type": "display_data"
    },
    {
     "name": "stdout",
     "output_type": "stream",
     "text": [
      "ACF (first 10): [ 1.00000000e+00 -2.31731507e-02 -1.42427777e-02  7.86466968e-04\n",
      " -1.08565737e-02 -4.14428647e-03 -2.34166851e-03 -3.95526038e-03\n",
      " -3.58625926e-03  1.78532952e-03  1.28075189e-02]\n",
      "PACF (first 10): [ 1.00000000e+00 -2.31736796e-02 -1.47883890e-02  1.08947879e-04\n",
      " -1.10554999e-02 -4.65073138e-03 -2.87119005e-03 -4.20435381e-03\n",
      " -3.97783862e-03  1.39267772e-03  1.27100793e-02]\n",
      "\n",
      "Ljung-Box test (lags 10,20):\n",
      "       lb_stat     lb_pvalue\n",
      "10   47.182020  8.749403e-07\n",
      "20  119.990185  2.863467e-16\n"
     ]
    }
   ],
   "source": [
    "from statsmodels.graphics.tsaplots import plot_acf, plot_pacf\n",
    "from statsmodels.tsa.stattools import acf, pacf\n",
    "from statsmodels.stats.diagnostic import acorr_ljungbox\n",
    "import matplotlib.pyplot as plt\n",
    "\n",
    "# Visual: omit lag-0 and zoom so small autocorrelations are visible\n",
    "plt.figure(figsize=(12,5))\n",
    "plt.subplot(1,2,1)\n",
    "plot_acf(crypto['log_return'], lags=30, ax=plt.gca(), zero=False)\n",
    "plt.ylim(-0.1, 0.1)   # adjust to taste\n",
    "plt.title('ACF (lag0 omitted)')\n",
    "\n",
    "plt.subplot(1,2,2)\n",
    "plot_pacf(crypto['log_return'], lags=30, ax=plt.gca(), zero=False, method='ywm')\n",
    "plt.ylim(-0.1, 0.1)\n",
    "plt.title('PACF (lag0 omitted)')\n",
    "\n",
    "plt.tight_layout()\n",
    "plt.show()\n",
    "\n",
    "# Numeric check + statistical test\n",
    "print(\"ACF (first 10):\", acf(crypto['log_return'].values, nlags=10, fft=True))\n",
    "print(\"PACF (first 10):\", pacf(crypto['log_return'].values, nlags=10))\n",
    "\n",
    "print(\"\\nLjung-Box test (lags 10,20):\")\n",
    "print(acorr_ljungbox(crypto['log_return'].values, lags=[10,20], return_df=True))"
   ]
  }
 ],
 "metadata": {
  "kernelspec": {
   "display_name": "venv",
   "language": "python",
   "name": "python3"
  },
  "language_info": {
   "codemirror_mode": {
    "name": "ipython",
    "version": 3
   },
   "file_extension": ".py",
   "mimetype": "text/x-python",
   "name": "python",
   "nbconvert_exporter": "python",
   "pygments_lexer": "ipython3",
   "version": "3.12.4"
  }
 },
 "nbformat": 4,
 "nbformat_minor": 5
}
